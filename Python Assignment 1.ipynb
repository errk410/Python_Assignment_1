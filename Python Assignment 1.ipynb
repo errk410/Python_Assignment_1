{
 "cells": [
  {
   "cell_type": "markdown",
   "id": "ba2afbaf-0dc0-470f-ad24-56d1898dbf4b",
   "metadata": {},
   "source": [
    "Q. 1 Create one variable containing following type of data:\n",
    "\n",
    "(i)\tstring\n",
    "\n",
    "(ii)\tlist\n",
    "\n",
    "(iii)\tfloat\n",
    "\n",
    "(iv)\ttuple"
   ]
  },
  {
   "cell_type": "code",
   "execution_count": 5,
   "id": "235841ca-31d3-4f15-815a-4eca1d689910",
   "metadata": {},
   "outputs": [],
   "source": [
    "a = ( \"Sweety\", 45.87, (2, 4, 8), [2,4,8,20] )"
   ]
  },
  {
   "cell_type": "code",
   "execution_count": 6,
   "id": "3bc803ba-f8d9-4e8a-b79d-4a98b4b3445e",
   "metadata": {},
   "outputs": [],
   "source": [
    "b = [ \"Sweety\", [9, 7,5], 45.87, (2,4,8,20)]"
   ]
  },
  {
   "cell_type": "code",
   "execution_count": 7,
   "id": "cd869066-abe4-4bd3-b95a-9ebf8debd955",
   "metadata": {},
   "outputs": [
    {
     "data": {
      "text/plain": [
       "tuple"
      ]
     },
     "execution_count": 7,
     "metadata": {},
     "output_type": "execute_result"
    }
   ],
   "source": [
    "type(a)"
   ]
  },
  {
   "cell_type": "code",
   "execution_count": 8,
   "id": "9fed3647-b196-4f0c-bdd6-80326dc5cd76",
   "metadata": {},
   "outputs": [
    {
     "data": {
      "text/plain": [
       "list"
      ]
     },
     "execution_count": 8,
     "metadata": {},
     "output_type": "execute_result"
    }
   ],
   "source": [
    "type(b)"
   ]
  },
  {
   "cell_type": "markdown",
   "id": "7ffcb09d-b5c5-4d06-a526-7ce58b5a355b",
   "metadata": {},
   "source": [
    "Q. 2 Given are some following variables containing data:\n",
    "\n",
    "(i)\tvar1 = ' '\n",
    "\n",
    "(ii)\tvar2 = '[ DS , ML , Python]'\n",
    "\n",
    "(iii)\tvar3 = [ 'DS' , 'ML' , 'Python' ]\n",
    "\n",
    "(iv)\tvar4 = 1."
   ]
  },
  {
   "cell_type": "code",
   "execution_count": 20,
   "id": "fc3ddedd-1142-404f-b8e7-07d9fb2ac23c",
   "metadata": {},
   "outputs": [],
   "source": [
    "var1 = ' '"
   ]
  },
  {
   "cell_type": "code",
   "execution_count": 22,
   "id": "0b205651-d63f-4e35-91bc-40e4d18f4ed1",
   "metadata": {},
   "outputs": [],
   "source": [
    "var2 = '[ DS , ML , Python]'"
   ]
  },
  {
   "cell_type": "code",
   "execution_count": 21,
   "id": "b37e1fa7-8722-44f8-b2d8-2f56e3c3f088",
   "metadata": {},
   "outputs": [],
   "source": [
    "var3 = [ 'DS' , 'ML' , 'Python' ]"
   ]
  },
  {
   "cell_type": "code",
   "execution_count": 16,
   "id": "7b25d05f-7ccb-4874-b951-6483ee6317f4",
   "metadata": {},
   "outputs": [],
   "source": [
    "var4 = 1."
   ]
  },
  {
   "cell_type": "code",
   "execution_count": 23,
   "id": "2e2bb5ef-64ee-4843-95ee-dbfa79b527c1",
   "metadata": {},
   "outputs": [
    {
     "data": {
      "text/plain": [
       "str"
      ]
     },
     "execution_count": 23,
     "metadata": {},
     "output_type": "execute_result"
    }
   ],
   "source": [
    "type(var1)"
   ]
  },
  {
   "cell_type": "code",
   "execution_count": 24,
   "id": "65b17c84-b5c5-4b3f-815a-3b13e2d76fc7",
   "metadata": {},
   "outputs": [
    {
     "data": {
      "text/plain": [
       "str"
      ]
     },
     "execution_count": 24,
     "metadata": {},
     "output_type": "execute_result"
    }
   ],
   "source": [
    "type(var2)"
   ]
  },
  {
   "cell_type": "code",
   "execution_count": 25,
   "id": "aa91cec5-d6c0-408c-b291-aa4a2d9d1734",
   "metadata": {},
   "outputs": [
    {
     "data": {
      "text/plain": [
       "list"
      ]
     },
     "execution_count": 25,
     "metadata": {},
     "output_type": "execute_result"
    }
   ],
   "source": [
    "type(var3)"
   ]
  },
  {
   "cell_type": "code",
   "execution_count": 26,
   "id": "83e01eb5-db52-41e1-b236-8d6430261fda",
   "metadata": {},
   "outputs": [
    {
     "data": {
      "text/plain": [
       "float"
      ]
     },
     "execution_count": 26,
     "metadata": {},
     "output_type": "execute_result"
    }
   ],
   "source": [
    "type(var4)"
   ]
  },
  {
   "cell_type": "markdown",
   "id": "95607524-7a61-45fc-8db2-a1ecb723ab70",
   "metadata": {},
   "source": [
    "Q. 3. Explain the use of the following operators using an example:\n",
    "\n",
    "(i)\t/\n",
    "\n",
    "(ii)\t% \n",
    "\n",
    "(iii)\t//\n",
    "\n",
    "(iv)\t**"
   ]
  },
  {
   "cell_type": "code",
   "execution_count": 10,
   "id": "df52f894-d47b-45d2-854c-1e4329123917",
   "metadata": {},
   "outputs": [],
   "source": [
    "a = 5\n",
    "b = 3"
   ]
  },
  {
   "cell_type": "code",
   "execution_count": 13,
   "id": "2b9386fe-b7cc-4813-8d11-8d414575cc33",
   "metadata": {},
   "outputs": [
    {
     "data": {
      "text/plain": [
       "1.6666666666666667"
      ]
     },
     "execution_count": 13,
     "metadata": {},
     "output_type": "execute_result"
    }
   ],
   "source": [
    "a / b     # The division operator '/'is used to perform division between two numbers. It returns the quotient of the division operation."
   ]
  },
  {
   "cell_type": "code",
   "execution_count": 14,
   "id": "1b21db7e-ee0e-4d8d-beb9-f0074a33b6c5",
   "metadata": {},
   "outputs": [
    {
     "data": {
      "text/plain": [
       "2"
      ]
     },
     "execution_count": 14,
     "metadata": {},
     "output_type": "execute_result"
    }
   ],
   "source": [
    "a % b     # The modulus operator % is used to find the remainder of the division between two numbers."
   ]
  },
  {
   "cell_type": "code",
   "execution_count": 15,
   "id": "a0992bbc-9708-40f8-a606-ce7d723e2823",
   "metadata": {},
   "outputs": [
    {
     "data": {
      "text/plain": [
       "1"
      ]
     },
     "execution_count": 15,
     "metadata": {},
     "output_type": "execute_result"
    }
   ],
   "source": [
    "a // b   #  The floor division operator // performs division and rounds down the result to the nearest whole number."
   ]
  },
  {
   "cell_type": "code",
   "execution_count": 27,
   "id": "5ab4219c-4e8e-4485-aaae-14321b2ded8c",
   "metadata": {},
   "outputs": [
    {
     "data": {
      "text/plain": [
       "125"
      ]
     },
     "execution_count": 27,
     "metadata": {},
     "output_type": "execute_result"
    }
   ],
   "source": [
    "a ** b  #  The exponentiation operator ** is used to raise a number to a certain power."
   ]
  },
  {
   "cell_type": "markdown",
   "id": "1de0bec8-b8ee-443b-8477-1ecad122ecc4",
   "metadata": {},
   "source": [
    "Q.4. Create a list of length 10 of your choice containing multiple types of data. Using for loop print the \n",
    "element and its data type."
   ]
  },
  {
   "cell_type": "code",
   "execution_count": 22,
   "id": "7098c329-4301-4fd3-a9fa-a5092d73a732",
   "metadata": {},
   "outputs": [],
   "source": [
    "my_list = [ \"Sweety\", \"Sahili\", 2, 12, 4, 10, [9, 7,5], 45.87, (2,4,8,20), True]"
   ]
  },
  {
   "cell_type": "code",
   "execution_count": 23,
   "id": "d3d01427-f9a5-4ae4-a0a6-0e0b79553b4f",
   "metadata": {},
   "outputs": [
    {
     "data": {
      "text/plain": [
       "10"
      ]
     },
     "execution_count": 23,
     "metadata": {},
     "output_type": "execute_result"
    }
   ],
   "source": [
    "len(my_list)"
   ]
  },
  {
   "cell_type": "code",
   "execution_count": 24,
   "id": "55631f68-dde2-4ae2-a790-2d638f082779",
   "metadata": {},
   "outputs": [
    {
     "name": "stdout",
     "output_type": "stream",
     "text": [
      "Sweety\n",
      "<class 'str'>\n",
      "Sahili\n",
      "<class 'str'>\n",
      "2\n",
      "<class 'int'>\n",
      "12\n",
      "<class 'int'>\n",
      "4\n",
      "<class 'int'>\n",
      "10\n",
      "<class 'int'>\n",
      "[9, 7, 5]\n",
      "<class 'list'>\n",
      "45.87\n",
      "<class 'float'>\n",
      "(2, 4, 8, 20)\n",
      "<class 'tuple'>\n",
      "True\n",
      "<class 'bool'>\n"
     ]
    }
   ],
   "source": [
    "for i in my_list:\n",
    "    print(i)\n",
    "    print(type(i))\n"
   ]
  },
  {
   "cell_type": "markdown",
   "id": "b55ac503-81f0-4eb0-ad78-f58676e5311c",
   "metadata": {},
   "source": [
    "Q.5. Using a while loop, verify if the number A is purely divisible by number B and if so then how many \n",
    "times it can be divisible."
   ]
  },
  {
   "cell_type": "code",
   "execution_count": 32,
   "id": "e3ddf7ad-00f5-46c8-9595-b3ce4c148e55",
   "metadata": {},
   "outputs": [
    {
     "name": "stdout",
     "output_type": "stream",
     "text": [
      " a is divisible by b \n",
      "a is divisible by b 3 times\n"
     ]
    }
   ],
   "source": [
    "a = 8\n",
    "b = 2\n",
    "\n",
    "count = 0\n",
    "while a % b == 0:\n",
    "    \n",
    "    a = a // b\n",
    "    count += 1\n",
    "print(\" a is divisible by b \")\n",
    "print(f'a is divisible by b {count} times')\n"
   ]
  },
  {
   "cell_type": "markdown",
   "id": "6f6936bc-251b-4d25-8919-956dca25e1ff",
   "metadata": {},
   "source": [
    "Q. 6. Create a list containing 25 int type data. Using for loop and if-else condition print if the element is \n",
    "divisible by 3 or not."
   ]
  },
  {
   "cell_type": "code",
   "execution_count": 36,
   "id": "9c852363-ffe4-4cd4-a9ab-9f66836cc368",
   "metadata": {},
   "outputs": [],
   "source": [
    "list1 = [3,5,9,12,24,36,6,8,15,18,27,29,38,39,30,42,58,52,68,26,57,26,28,20,75] "
   ]
  },
  {
   "cell_type": "code",
   "execution_count": 37,
   "id": "95b8590f-b550-4007-8a00-aabe53c3799d",
   "metadata": {},
   "outputs": [
    {
     "data": {
      "text/plain": [
       "25"
      ]
     },
     "execution_count": 37,
     "metadata": {},
     "output_type": "execute_result"
    }
   ],
   "source": [
    "len(list1)"
   ]
  },
  {
   "cell_type": "code",
   "execution_count": 38,
   "id": "c03b29f8-becd-4cd0-adab-0062fb5f9026",
   "metadata": {},
   "outputs": [
    {
     "name": "stdout",
     "output_type": "stream",
     "text": [
      "3\n",
      "9\n",
      "12\n",
      "24\n",
      "36\n",
      "6\n",
      "15\n",
      "18\n",
      "27\n",
      "39\n",
      "30\n",
      "42\n",
      "57\n",
      "75\n"
     ]
    }
   ],
   "source": [
    "for i in list1 :\n",
    "    if i % 3 == 0:\n",
    "        print(i)"
   ]
  },
  {
   "cell_type": "markdown",
   "id": "24a1281d-6fd1-43bd-a3c1-362398462fa5",
   "metadata": {},
   "source": [
    "Q.7. What do you understand about mutable and immutable data types? Give examples for both showing \n",
    "this property."
   ]
  },
  {
   "cell_type": "markdown",
   "id": "e017b58e-154e-4651-82b0-2256ea9e0ee5",
   "metadata": {},
   "source": [
    "Mutable and immutable are two fundamental concepts in programming that refer to whether the data within a variable can be changed or modified after it is created.\n",
    "\n",
    "Immutable Data Types: Immutable data types are those whose values cannot be changed once they are created. \n",
    "Examples of immutable data types in Python include: Integers, Floats, Strings, Tuples.\n",
    "\n",
    "Mutable data types are those whose values can be modified after creation. You can change their contents or elements without creating a new object.\n",
    "Examples of mutable data types in Python include: Lists, Dictionaries, Sets.\n"
   ]
  },
  {
   "cell_type": "code",
   "execution_count": 5,
   "id": "39980df2-d02a-4296-83f2-73780609a39c",
   "metadata": {},
   "outputs": [],
   "source": [
    "#  Examples of Immutable datatypes\n",
    "\n",
    "s = \"sweety\""
   ]
  },
  {
   "cell_type": "code",
   "execution_count": 6,
   "id": "ef51c01a-f8e9-4ba5-a834-d04ee572b789",
   "metadata": {},
   "outputs": [
    {
     "ename": "NameError",
     "evalue": "name 'v' is not defined",
     "output_type": "error",
     "traceback": [
      "\u001b[0;31m---------------------------------------------------------------------------\u001b[0m",
      "\u001b[0;31mNameError\u001b[0m                                 Traceback (most recent call last)",
      "Cell \u001b[0;32mIn[6], line 1\u001b[0m\n\u001b[0;32m----> 1\u001b[0m s[\u001b[38;5;241m1\u001b[39m] \u001b[38;5;241m=\u001b[39m \u001b[43mv\u001b[49m   \u001b[38;5;66;03m# we can't reassign any value in string because its immutable.\u001b[39;00m\n",
      "\u001b[0;31mNameError\u001b[0m: name 'v' is not defined"
     ]
    }
   ],
   "source": [
    "s[1] = v   # we can't reassign any value in string because its immutable."
   ]
  },
  {
   "cell_type": "code",
   "execution_count": 7,
   "id": "64ab8533-24fc-4cf7-b990-a13ad34d55dd",
   "metadata": {},
   "outputs": [],
   "source": [
    "x = 5\n",
    "y = x + 2  # This creates a new integer object with the value 7, leaving the original x unchanged.\n"
   ]
  },
  {
   "cell_type": "code",
   "execution_count": 8,
   "id": "c4b9df94-5860-48a4-a919-03d4e0fd9f9b",
   "metadata": {},
   "outputs": [],
   "source": [
    "# Examples of Mutable datatypes\n",
    "\n",
    "a = [2,3,5,9,\"rk\",3+4j,68,39.5]"
   ]
  },
  {
   "cell_type": "code",
   "execution_count": 9,
   "id": "6e6d91cb-866d-4286-b061-e5e08878096b",
   "metadata": {},
   "outputs": [],
   "source": [
    "a[4] = \"harry\""
   ]
  },
  {
   "cell_type": "code",
   "execution_count": 10,
   "id": "edc5371e-7961-4ecb-8c03-2346c97c9691",
   "metadata": {},
   "outputs": [
    {
     "data": {
      "text/plain": [
       "[2, 3, 5, 9, 'harry', (3+4j), 68, 39.5]"
      ]
     },
     "execution_count": 10,
     "metadata": {},
     "output_type": "execute_result"
    }
   ],
   "source": [
    "a"
   ]
  },
  {
   "cell_type": "code",
   "execution_count": 11,
   "id": "e7770e8d-e201-4d68-a879-5e424d3261d6",
   "metadata": {},
   "outputs": [
    {
     "name": "stdout",
     "output_type": "stream",
     "text": [
      "[1, 2, 3, 4]\n"
     ]
    }
   ],
   "source": [
    "my_list = [1, 2, 3]\n",
    "\n",
    "new_list = my_list\n",
    "\n",
    "new_list.append(4)\n",
    "\n",
    "print(my_list)"
   ]
  },
  {
   "cell_type": "code",
   "execution_count": null,
   "id": "b0588559-8683-43d6-a93b-ee546238e368",
   "metadata": {},
   "outputs": [],
   "source": []
  }
 ],
 "metadata": {
  "kernelspec": {
   "display_name": "Python 3 (ipykernel)",
   "language": "python",
   "name": "python3"
  },
  "language_info": {
   "codemirror_mode": {
    "name": "ipython",
    "version": 3
   },
   "file_extension": ".py",
   "mimetype": "text/x-python",
   "name": "python",
   "nbconvert_exporter": "python",
   "pygments_lexer": "ipython3",
   "version": "3.10.8"
  }
 },
 "nbformat": 4,
 "nbformat_minor": 5
}
